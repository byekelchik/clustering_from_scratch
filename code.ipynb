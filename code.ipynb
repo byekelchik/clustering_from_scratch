{
 "cells": [
  {
   "cell_type": "code",
   "execution_count": 4,
   "metadata": {},
   "outputs": [],
   "source": [
    "import numpy as np\n",
    "import pandas as pd\n",
    "import matplotlib.pyplot as plt\n",
    "from sklearn.metrics import classification_report\n",
    "from sklearn.preprocessing import MinMaxScaler,StandardScaler"
   ]
  },
  {
   "cell_type": "markdown",
   "metadata": {},
   "source": [
    "### Dataset import"
   ]
  },
  {
   "cell_type": "code",
   "execution_count": 5,
   "metadata": {},
   "outputs": [],
   "source": [
    "elliptical = pd.read_csv(r\"C:\\Users\\Byeke\\OneDrive\\Documents\\Spring_2022_Lehigh\\data_mining\\project_1\\Datasets\\elliptical.txt\",delimiter=' ',names = ['x','y'])\n",
    "square = pd.read_csv(r\"C:\\Users\\Byeke\\OneDrive\\Documents\\Spring_2022_Lehigh\\data_mining\\project_1\\Datasets\\square.txt\",delimiter=' ',names = ['x','y'])"
   ]
  },
  {
   "cell_type": "markdown",
   "metadata": {},
   "source": [
    "### Simulation Dataset"
   ]
  },
  {
   "cell_type": "code",
   "execution_count": 8,
   "metadata": {},
   "outputs": [
    {
     "data": {
      "text/plain": [
       "<matplotlib.collections.PathCollection at 0x26e91840908>"
      ]
     },
     "execution_count": 8,
     "metadata": {},
     "output_type": "execute_result"
    },
    {
     "data": {
      "image/png": "[encoded data removed]",
      "text/plain": [
       "<Figure size 432x288 with 1 Axes>"
      ]
     },
     "metadata": {
      "needs_background": "light"
     },
     "output_type": "display_data"
    }
   ],
   "source": [
    "# plt.scatter(square.loc[:,\"x\"],square.loc[:,\"y\"])\n",
    "plt.scatter(elliptical.loc[:,\"x\"],elliptical.loc[:,\"y\"])"
   ]
  },
  {
   "cell_type": "code",
   "execution_count": 6,
   "metadata": {},
   "outputs": [],
   "source": [
    "np_square = np.array(square)\n",
    "np_elliptical = np.array(elliptical)"
   ]
  },
  {
   "cell_type": "markdown",
   "metadata": {},
   "source": [
    "#### Build Kmeans"
   ]
  },
  {
   "cell_type": "code",
   "execution_count": 8,
   "metadata": {},
   "outputs": [],
   "source": [
    "def distance(a,b):\n",
    "    \"\"\"\n",
    "    Given two np.arrays a and b\n",
    "    ---------\n",
    "    Return euclidean distance between a and b\n",
    "    \"\"\"\n",
    "    return np.sqrt(sum(np.square(a-b)))\n",
    "\n",
    "def initiate_centroids(k,data,init_random):\n",
    "    \"\"\"\n",
    "    Given k clusters and the data set\n",
    "    ---------\n",
    "    Return the initial k centroids\n",
    "    \"\"\"\n",
    "    centroids = []\n",
    "    for i in range(k):\n",
    "        if init_random == True:\n",
    "            centroids.append(data[np.random.randint(0,len(data))]) #Randomly pick centroid index\n",
    "        else:\n",
    "            centroids.append(data[i])\n",
    "    return np.asarray(centroids)\n",
    "\n",
    "def cluster_assignment(data,centroids):\n",
    "    \"\"\"\n",
    "    Given Centroids\n",
    "    ---------\n",
    "    Returns assign data to k clusters\n",
    "    \"\"\"\n",
    "    cluster = np.zeros(len(data))\n",
    "    for point in range(len(data)):\n",
    "        distances =[distance(data[point],centroid) for centroid in centroids] # computing distance from each point in dataset to each centroid\n",
    "        index = np.argmin(distances) #assigning each point to closest centroid\n",
    "        cluster[point] = index\n",
    "    return cluster\n",
    "\n",
    "def compute_centroids(k, data, cluster):\n",
    "    \"\"\"\n",
    "    Given data, number of cluster, and the current clusters\n",
    "    ---------\n",
    "    Return new computed centroids\n",
    "    \"\"\"\n",
    "    new_centroids = []\n",
    "    for i in range(k):\n",
    "        node = []\n",
    "        for j in range(len(data)):\n",
    "            if cluster[j]==i:\n",
    "                node.append(data[j])\n",
    "        new_centroids.append(np.mean(node, axis=0))\n",
    "    return np.array(new_centroids,dtype=object)\n",
    "\n",
    "def measure_change(centroids_current,new_centroids):\n",
    "    \"\"\"\n",
    "    Calculate the distance between previous centroids and current\n",
    "    \"\"\"\n",
    "    delta = 0\n",
    "    for a,b in zip(centroids_current,new_centroids):\n",
    "        delta+=distance(a,b)\n",
    "    return delta"
   ]
  },
  {
   "cell_type": "code",
   "execution_count": 9,
   "metadata": {},
   "outputs": [],
   "source": [
    "def kmeans_clustering(data,tol,k,init_random,match_truth_values=False, truth_values= []):\n",
    "    np.random.seed(10)\n",
    "    \"\"\"\n",
    "    Kmeans clustering algorithm\n",
    "    Input is numpy array, tolerence, max_iterations, k # of cluster, and centroid init_type \n",
    "    ---------\n",
    "    Optional Arguments:\n",
    "    \n",
    "    match_truth Values: Boolean\n",
    "    truth_values: values to match \n",
    "    ---------\n",
    "    Returns list of assigned cluster for each element\n",
    "    \"\"\"\n",
    "    centroids_current = initiate_centroids(k,data,init_random)\n",
    "    change = 50\n",
    "    while change > tol: #stopping condition\n",
    "        cluster = cluster_assignment(data,centroids_current) #assign clusters using centroids_current\n",
    "        new_centroids = compute_centroids(k, data, cluster) # calcualte new centroids with the latest assignemnts\n",
    "        change = measure_change(centroids_current,new_centroids) # calculate the distance between previous centroids using eulcidean distance function\n",
    "        centroids_current = new_centroids #assign new centroids as the 'current' ones and check stopping condition at the top\n",
    "    \n",
    "    if match_truth_values == True:\n",
    "        cluster_matched = np.empty_like(cluster)\n",
    "            # For each cluster label...\n",
    "        for k in np.unique(cluster):\n",
    "\n",
    "            # ...find and assign the best-matching truth label\n",
    "            match_nums = [np.sum((cluster==k)*(truth_values==t)) for t in np.unique(truth_values)]\n",
    "            cluster_matched[cluster==k] = np.unique(truth_values)[np.argmax(match_nums)]\n",
    "        cluster = cluster_matched\n",
    "    else:\n",
    "        pass\n",
    "\n",
    "    return cluster, centroids_current"
   ]
  },
  {
   "cell_type": "markdown",
   "metadata": {},
   "source": [
    "#### Fit Kmeans to Both Datasets and Graph"
   ]
  },
  {
   "cell_type": "code",
   "execution_count": 169,
   "metadata": {},
   "outputs": [],
   "source": [
    "def generate_kmeans_cluster(data,k,random_init):\n",
    "    \"\"\" \n",
    "    Given data, kclusters, and random initalization of centroids\n",
    "    ---------\n",
    "    Returns a graph of the fitted clusters and centroids \n",
    "    \"\"\"\n",
    "    sc = StandardScaler()\n",
    "    if data =='square':\n",
    "        # square\n",
    "        data_input = pd.read_csv(r\"C:\\Users\\Byeke\\OneDrive\\Documents\\Spring_2022_Lehigh\\data_mining\\project_1\\Datasets\\square.txt\",delimiter=' ',names = ['x','y'])\n",
    "        data_clustering = data_input.values\n",
    "    elif data == 'elliptical':\n",
    "        #elliptical\n",
    "        data_input = pd.read_csv(r\"C:\\Users\\Byeke\\OneDrive\\Documents\\Spring_2022_Lehigh\\data_mining\\project_1\\Datasets\\elliptical.txt\",delimiter=' ',names = ['x','y'])\n",
    "        data_clustering = sc.fit_transform(data_input)\n",
    "    result_square_kmeans, result_square_centroids_kmeans = kmeans_clustering(data_clustering,tol=.001,k=k,init_random = random_init)\n",
    "    return result_square_kmeans, result_square_centroids_kmeans\n",
    "\n",
    "def plot_2d_clusters(data,clusters,centroids,type):\n",
    "    \"\"\"\"\n",
    "    Given pandas df, list of clusters, list of centroids, and type of clustering\n",
    "    ---------\n",
    "    Returns plot of clusters\n",
    "    \"\"\"    \n",
    "    data[f'{type}_cluster'] = clusters\n",
    "    clustered_data = data.groupby(f'{type}_cluster')\n",
    "    fig, ax = plt.subplots()\n",
    "    fig.set_size_inches(12,8)\n",
    "    for name, group in clustered_data:\n",
    "        ax.plot(group.x, group.y, marker='o', linestyle='', label=name)\n",
    "    for center in range(len(centroids)):\n",
    "        ax.plot(centroids[center][:2][0],centroids[center][:2][1],marker = 'p',color = 'black',markersize = 15)\n",
    "    ax.legend(numpoints=1, loc='upper left')\n",
    "    ax.set_xlabel('X Value')\n",
    "    ax.set_ylabel('Y Value')\n",
    "    ax.set_title(f'Scatter Plot of data w/ \\n Color Coded by Cluster {type}')\n",
    "    return ax\n"
   ]
  },
  {
   "cell_type": "code",
   "execution_count": 168,
   "metadata": {},
   "outputs": [],
   "source": [
    "# generate_kmeans_cluster(\"square\",2,True)\n",
    "# generate_kmeans_cluster(\"elliptical\",2,True)"
   ]
  },
  {
   "cell_type": "markdown",
   "metadata": {},
   "source": [
    "#### Build Spectral Clustering\n",
    "\n",
    "Give dataset, let the similarity matrix $S_{ij}$ be the similarity between data point $i,j$. Let the Diagonal matrix $D= \\sum_j S_{ij}$.\n",
    "\n",
    "We define the **unnormalized** Laplacian matrix $L= S-D$\n",
    "\n",
    "We define the **normalized** Laplacian matrix $L = D^{-\\frac{1}{2}}LD^{-\\frac{1}{2}}$\n",
    "\n",
    "Then calculate eigenvalues and vectors of $L$, then use kmeans to cluster that result"
   ]
  },
  {
   "cell_type": "code",
   "execution_count": 52,
   "metadata": {},
   "outputs": [],
   "source": [
    "def similarity_calc(data,type,sigma,epsilon):\n",
    "    type = type.lower()\n",
    "    \"\"\"\n",
    "    Given two np array, the type of similarity calculation, and threshold similarity epsilon\n",
    "    ---------\n",
    "    Return the appropriate Similarity Matrix\n",
    "    \"\"\"\n",
    "    sim_matrix = np.zeros((len(data),len(data)))\n",
    "    for i in range(len(data)):\n",
    "        for j in range(len(data)):\n",
    "            if type == 'cosine':\n",
    "                sim_matrix[i,j] = np.dot(data[i],data[j])/(np.linalg.norm(data[i])*(np.linalg.norm(data[j])))\n",
    "            elif type == 'gaussian':\n",
    "                sim_matrix[i,j] = np.exp((-distance(data[i],data[j])**2)/(2*sigma**2))\n",
    "            else:\n",
    "                print(\"please choose 'gaussian' or 'cosine'\")\n",
    "                break\n",
    "    return np.where(sim_matrix > epsilon,sim_matrix,0)\n",
    "\n",
    "def degree_matrix(sim_matrix):\n",
    "    \"\"\"\"\n",
    "    Given a similarity matrix\n",
    "    --------\n",
    "    Returns the degree matrix\n",
    "    \"\"\"\n",
    "    d_matrix = np.zeros((len(sim_matrix),len(sim_matrix)))\n",
    "    for i in range(len(sim_matrix)):\n",
    "        d_matrix[i,i] = sum(sim_matrix[i])    \n",
    "    return d_matrix"
   ]
  },
  {
   "cell_type": "code",
   "execution_count": 53,
   "metadata": {},
   "outputs": [],
   "source": [
    "def spectral_clustering(data,k,tol,normalization,similarity,init_random,sigma,epsilon, truth_values=False, match_truth_values=[]):\n",
    "    \"\"\"\n",
    "    Spectral clustering algorithm\n",
    "    Input is numpy array, tolerence,type of normalization and similarity, and k # of cluster\n",
    "    ---------\n",
    "    Cluster initiation is random\n",
    "\n",
    "    Optional Arguments:\n",
    "    \n",
    "    match_truth Values: Boolean\n",
    "    truth_values: values to match \n",
    "    ---------\n",
    "    Returns list of assigned cluster for each element\n",
    "    \"\"\"\n",
    "    s_matrix = similarity_calc(data,similarity,sigma,epsilon)\n",
    "    d_matrix = degree_matrix(s_matrix)\n",
    "    l = d_matrix - s_matrix\n",
    "    if normalization == True:\n",
    "        # d_matrix_frac = fractional_matrix_power(d_matrix, -0.5)\n",
    "        # l = (d_matrix_frac) * l * (d_matrix_frac)\n",
    "        l = np.linalg.inv(d_matrix) *l\n",
    "    else: \n",
    "        pass\n",
    "    eig_val,eig_vec = np.linalg.eig(l)\n",
    "    eig_val_non_zero = eig_val[np.where(eig_val>0)]\n",
    "    k_small_eigval_nonzero = np.sort(eig_val_non_zero)[:k] #sort the list and get the first k elements\n",
    "    k_small_eigval_nonzero_idx =[]\n",
    "    for i in range(len(k_small_eigval_nonzero)):\n",
    "        k_small_eigval_nonzero_idx.append(np.where((eig_val == k_small_eigval_nonzero[i]))) #find the idx of where these elements are in the eig_val matrix\n",
    "    data = eig_vec[:,k_small_eigval_nonzero_idx] #pull out the the two idx corresponding to smallest non-zero eig_val\n",
    "    data= data.reshape(data.shape[0],data.shape[1])\n",
    "    cluster = kmeans_clustering(data,tol,k,init_random=True)\n",
    "    return cluster"
   ]
  },
  {
   "cell_type": "markdown",
   "metadata": {},
   "source": [
    "#### Fit Spectral to Both Datasets and Graph"
   ]
  },
  {
   "cell_type": "code",
   "execution_count": 176,
   "metadata": {},
   "outputs": [],
   "source": [
    "def generate_spectral_cluster(data,k,random_init,sigma,similarity='gaussian',epsilon =.3,normalization = False):\n",
    "    \"\"\"\n",
    "    Given generated data, k clusters, random initalization of centroids,epsilon,normalization,similarity, sigma\n",
    "    ---------\n",
    "    Returns a graph of the fitted clusters and centroids \n",
    "    \"\"\"\n",
    "    sc = StandardScaler()\n",
    "    if data =='square':\n",
    "        # square\n",
    "        data_input = pd.read_csv(r\"C:\\Users\\Byeke\\OneDrive\\Documents\\Spring_2022_Lehigh\\data_mining\\project_1\\Datasets\\square.txt\",delimiter=' ',names = ['x','y']) #mount the driver here\n",
    "        data_clustering = data_input.values\n",
    "    elif data == 'elliptical':\n",
    "        #elliptical\n",
    "        data_input = pd.read_csv(r\"C:\\Users\\Byeke\\OneDrive\\Documents\\Spring_2022_Lehigh\\data_mining\\project_1\\Datasets\\elliptical.txt\",delimiter=' ',names = ['x','y']) #mount the driver here\n",
    "        data_clustering = sc.fit_transform(data_input)\n",
    "    result_spectral, result_spectral_centroids = spectral_clustering(data_clustering,sigma = sigma,tol=.001,k=k,normalization = normalization,similarity= similarity,init_random = random_init,epsilon=epsilon)\n",
    "    return result_spectral, result_spectral_centroids"
   ]
  },
  {
   "cell_type": "code",
   "execution_count": 181,
   "metadata": {},
   "outputs": [
    {
     "data": {
      "text/plain": [
       "<matplotlib.axes._subplots.AxesSubplot at 0x1afe22aa308>"
      ]
     },
     "execution_count": 181,
     "metadata": {},
     "output_type": "execute_result"
    },
    {
     "data": {
      "image/png": "[encoded data removed]",
      "text/plain": [
       "<Figure size 864x576 with 1 Axes>"
      ]
     },
     "metadata": {
      "needs_background": "light"
     },
     "output_type": "display_data"
    },
    {
     "data": {
      "image/png": "[encoded data removed]",
      "text/plain": [
       "<Figure size 864x576 with 1 Axes>"
      ]
     },
     "metadata": {
      "needs_background": "light"
     },
     "output_type": "display_data"
    }
   ],
   "source": [
    "result_spectral, result_spectral_centroids = generate_spectral_cluster('square',k=2,random_init=True,sigma=1,similarity='gaussian',epsilon =.5,normalization = False)\n",
    "plot_2d_clusters(square, result_spectral, result_spectral_centroids,\"spectral\")\n",
    "result_spectral, result_spectral_centroids = generate_spectral_cluster('elliptical',k=2,random_init=True,sigma=1,similarity='gaussian',epsilon =.75,normalization = False)\n",
    "plot_2d_clusters(elliptical, result_spectral, result_spectral_centroids,\"spectral\")"
   ]
  },
  {
   "cell_type": "markdown",
   "metadata": {},
   "source": [
    "### Real-World Dataset"
   ]
  },
  {
   "cell_type": "code",
   "execution_count": 178,
   "metadata": {},
   "outputs": [],
   "source": [
    "def real_world_kmeans(data):\n",
    "    kmeans_clusters,kmeans_centroids = kmeans_clustering(data, .001,actual_k_iyer, init_random = True, match_truth_values=True, truth_values=data.truth_values)\n",
    "    return kmeans_clusters,kmeans_centroids\n",
    "\n",
    "def real_world_spectral(data,actual_k_iyer, tol=.001, normalization=False, similarity='cosine', init_random=True, sigma = 2,epsilon =.5, match_truth_values=True):\n",
    "    spectral_clusters,centroids_spectral = spectral_clustering(iyer_sc_values, k=actual_k_iyer, tol=tol, normalization=normalization, similarity=similarity, init_random=init_random,\n",
    "                                                            sigma = sigma,epsilon =epsilon, match_truth_values=match_truth_values, truth_values=data.truth_values)\n",
    "    return spectral_clusters,centroids_spectral"
   ]
  },
  {
   "cell_type": "code",
   "execution_count": 61,
   "metadata": {},
   "outputs": [],
   "source": [
    "cho = pd.read_csv(r\"C:\\Users\\Byeke\\OneDrive\\Documents\\Spring_2022_Lehigh\\data_mining\\project_1\\Datasets\\cho.txt\",delimiter='\\t',header=None)\n",
    "iyer = pd.read_csv(r\"C:\\Users\\Byeke\\OneDrive\\Documents\\Spring_2022_Lehigh\\data_mining\\project_1\\Datasets\\iyer.txt\",delimiter='\\t',header=None)"
   ]
  },
  {
   "cell_type": "code",
   "execution_count": 62,
   "metadata": {},
   "outputs": [],
   "source": [
    "#### Rename cho and iyer columns\n",
    "real_set_cols = cho.columns.tolist()\n",
    "real_set_cols[0] = \"gene_id\"\n",
    "real_set_cols[1] = \"ground_truth\"\n",
    "cho.columns = real_set_cols\n",
    "cho.set_index('gene_id',inplace=True)\n",
    "\n",
    "real_set_cols = iyer.columns.tolist()\n",
    "real_set_cols[0] = \"gene_id\"\n",
    "real_set_cols[1] = \"ground_truth\"\n",
    "iyer.columns = real_set_cols\n",
    "iyer.set_index('gene_id',inplace=True)"
   ]
  },
  {
   "cell_type": "code",
   "execution_count": 63,
   "metadata": {},
   "outputs": [
    {
     "name": "stdout",
     "output_type": "stream",
     "text": [
      "# Clusters Cho: 5 \n",
      "# Clusters iyer: 11\n"
     ]
    }
   ],
   "source": [
    "\"\"\"Number of true clusters for each dataset\"\"\"\n",
    "actual_k_cho = cho.ground_truth.unique().shape[0]\n",
    "actual_k_iyer = iyer.ground_truth.unique().shape[0]\n",
    "print(f'# Clusters Cho: {actual_k_cho} \\n# Clusters iyer: {actual_k_iyer}')"
   ]
  },
  {
   "cell_type": "markdown",
   "metadata": {},
   "source": [
    "#### Fit KMeans to Cho and Iyer"
   ]
  },
  {
   "cell_type": "markdown",
   "metadata": {},
   "source": [
    "##### Preprocessing"
   ]
  },
  {
   "cell_type": "code",
   "execution_count": 65,
   "metadata": {},
   "outputs": [],
   "source": [
    "iyer.ground_truth.unique()\n",
    "iyer_no_outliers = iyer[iyer['ground_truth']!=-1]\n",
    "\n",
    "\"\"\"Scaling\"\"\"\n",
    "# sc = MinMaxScaler()\n",
    "# cho_sc_values = sc.fit_transform(cho.iloc[:,1:])\n",
    "# iyer_sc_values = sc.fit_transform(iyer_no_outliers.iloc[:,1:])\n",
    "\n",
    "\"\"\"Truth Values\"\"\"\n",
    "iyer_no_outlier_truth = iyer_no_outliers.ground_truth.values\n",
    "cho_truth = cho.ground_truth.values"
   ]
  },
  {
   "cell_type": "code",
   "execution_count": 66,
   "metadata": {},
   "outputs": [
    {
     "name": "stderr",
     "output_type": "stream",
     "text": [
      "C:\\Users\\Byeke\\Anaconda3\\lib\\site-packages\\numpy\\core\\fromnumeric.py:3373: RuntimeWarning: Mean of empty slice.\n",
      "  out=out, **kwargs)\n",
      "C:\\Users\\Byeke\\Anaconda3\\lib\\site-packages\\numpy\\core\\_methods.py:170: RuntimeWarning: invalid value encountered in double_scalars\n",
      "  ret = ret.dtype.type(ret / rcount)\n"
     ]
    }
   ],
   "source": [
    "kmeans_iyer,kmeans_iyer_centroids = kmeans_clustering(iyer_no_outliers.iloc[:,1:].values, .001,actual_k_iyer, init_random = True, match_truth_values=True, truth_values=iyer_no_outlier_truth)\n",
    "kmeans_cho,kmeans_cho_centroids = kmeans_clustering(cho.iloc[:,:1].values, .001, actual_k_cho, init_random= True, match_truth_values=True, truth_values=cho_truth)"
   ]
  },
  {
   "cell_type": "markdown",
   "metadata": {},
   "source": [
    "#### Fit Spectral to Cho and Iyer"
   ]
  },
  {
   "cell_type": "markdown",
   "metadata": {},
   "source": [
    "##### Preprocessing"
   ]
  },
  {
   "cell_type": "code",
   "execution_count": 69,
   "metadata": {},
   "outputs": [],
   "source": [
    "iyer.ground_truth.unique()\n",
    "iyer_no_outliers = iyer[iyer['ground_truth']!=-1]\n",
    "\n",
    "\"\"\"Scaling\"\"\"\n",
    "sc = StandardScaler()\n",
    "cho_sc_values = sc.fit_transform(cho.iloc[:,1:])\n",
    "iyer_sc_values = sc.fit_transform(iyer_no_outliers.iloc[:,1:])\n"
   ]
  },
  {
   "cell_type": "code",
   "execution_count": 155,
   "metadata": {},
   "outputs": [
    {
     "name": "stderr",
     "output_type": "stream",
     "text": [
      "C:\\Users\\Byeke\\Anaconda3\\lib\\site-packages\\numpy\\core\\fromnumeric.py:3373: RuntimeWarning: Mean of empty slice.\n",
      "  out=out, **kwargs)\n",
      "C:\\Users\\Byeke\\Anaconda3\\lib\\site-packages\\numpy\\core\\_methods.py:170: RuntimeWarning: invalid value encountered in double_scalars\n",
      "  ret = ret.dtype.type(ret / rcount)\n"
     ]
    }
   ],
   "source": [
    "spectral_iyer,centroids_iyer_spectral = spectral_clustering(iyer_sc_values, k=actual_k_iyer, tol=.001, normalization=False, similarity='cosine', init_random=True,\n",
    "                                                            sigma = 2,epsilon =.5, match_truth_values=True, truth_values=iyer_no_outlier_truth)\n",
    "\n",
    "spectral_cho,centroids_cho_spectral = spectral_clustering(cho_sc_values, k=actual_k_cho, tol=.001, normalization=False, similarity='gaussian', init_random=True,\n",
    "                                                            sigma = 2,epsilon =.5,match_truth_values=True, truth_values=cho.ground_truth)"
   ]
  },
  {
   "cell_type": "markdown",
   "metadata": {},
   "source": [
    "#### SSE Calcuations"
   ]
  },
  {
   "cell_type": "code",
   "execution_count": 151,
   "metadata": {},
   "outputs": [],
   "source": [
    "def sse_calc(data,):\n",
    "    \"\"\"\n",
    "    Given data with labeled clusters \n",
    "    --------\n",
    "    Returns the sse\n",
    "    \"\"\"\n",
    "    dist = 0\n",
    "    n_clusters = data.spectral_label.unique().tolist()\n",
    "\n",
    "    for i in range(len(n_clusters)): #for each cluster\n",
    "        mean_i = data[data['spectral_label']==n_clusters[i]].mean().iloc[1:-1].to_numpy() #get the ith centroid\n",
    "        cluster_data = data[data['spectral_label']==n_clusters[i]] #get the data labeled into the ith cluster\n",
    "\n",
    "        for point in range(len(cluster_data)): #for each point in the cluster\n",
    "            b = cluster_data.iloc[point,1:-1].to_numpy() #get each point\n",
    "            dist += distance(mean_i,b) #calculate euclidean distance between centroid i and each point in the ith cluster  \n",
    "    return dist"
   ]
  },
  {
   "cell_type": "markdown",
   "metadata": {},
   "source": [
    "### Classification Report: KMeans"
   ]
  },
  {
   "cell_type": "code",
   "execution_count": 468,
   "metadata": {},
   "outputs": [
    {
     "name": "stdout",
     "output_type": "stream",
     "text": [
      "\t\tIyer KMeans Classifcation Report \n",
      "              precision    recall  f1-score   support\n",
      "\n",
      "           1       0.55      0.66      0.60       100\n",
      "           2       0.65      0.89      0.75       145\n",
      "           3       0.00      0.00      0.00        34\n",
      "           4       0.88      0.51      0.65        43\n",
      "           5       0.00      0.00      0.00         7\n",
      "           6       0.43      0.88      0.58        34\n",
      "           7       0.00      0.00      0.00        14\n",
      "           8       0.66      0.76      0.71        63\n",
      "           9       0.00      0.00      0.00        19\n",
      "          10       0.00      0.00      0.00        25\n",
      "\n",
      "    accuracy                           0.61       484\n",
      "   macro avg       0.32      0.37      0.33       484\n",
      "weighted avg       0.50      0.61      0.54       484\n",
      "\n",
      "\t\tCho KMeans Classifcation Report \n",
      "              precision    recall  f1-score   support\n",
      "\n",
      "           1       1.00      1.00      1.00        67\n",
      "           2       1.00      1.00      1.00       135\n",
      "           3       1.00      1.00      1.00        75\n",
      "           4       1.00      1.00      1.00        54\n",
      "           5       1.00      1.00      1.00        55\n",
      "\n",
      "    accuracy                           1.00       386\n",
      "   macro avg       1.00      1.00      1.00       386\n",
      "weighted avg       1.00      1.00      1.00       386\n",
      "\n"
     ]
    },
    {
     "name": "stderr",
     "output_type": "stream",
     "text": [
      "C:\\Users\\Byeke\\Anaconda3\\lib\\site-packages\\sklearn\\metrics\\_classification.py:1221: UndefinedMetricWarning: Precision and F-score are ill-defined and being set to 0.0 in labels with no predicted samples. Use `zero_division` parameter to control this behavior.\n",
      "  _warn_prf(average, modifier, msg_start, len(result))\n"
     ]
    }
   ],
   "source": [
    "print('\\t'*2 +'Iyer KMeans Classifcation Report \\n'+ f'{classification_report(iyer_no_outliers.ground_truth,kmeans_iyer)}')\n",
    "print('\\t'*2 +'Cho KMeans Classifcation Report \\n'+ f'{classification_report(cho.ground_truth,kmeans_cho)}')"
   ]
  },
  {
   "cell_type": "markdown",
   "metadata": {},
   "source": [
    "### Classification Report: Spectral"
   ]
  },
  {
   "cell_type": "code",
   "execution_count": 457,
   "metadata": {},
   "outputs": [
    {
     "name": "stdout",
     "output_type": "stream",
     "text": [
      "\t\tIyer Spectral Classifcation Report \n",
      "              precision    recall  f1-score   support\n",
      "\n",
      "         0.0       0.00      0.00      0.00         0\n",
      "         1.0       0.00      0.00      0.00       100\n",
      "         2.0       0.57      0.32      0.41       145\n",
      "         3.0       0.00      0.00      0.00        34\n",
      "         4.0       0.40      0.19      0.25        43\n",
      "         5.0       0.00      0.00      0.00         7\n",
      "         6.0       0.00      0.00      0.00        34\n",
      "         7.0       0.00      0.00      0.00        14\n",
      "         8.0       0.06      0.05      0.05        63\n",
      "         9.0       0.07      0.26      0.11        19\n",
      "        10.0       0.00      0.00      0.00        25\n",
      "\n",
      "    accuracy                           0.13       484\n",
      "   macro avg       0.10      0.07      0.08       484\n",
      "weighted avg       0.22      0.13      0.16       484\n",
      "\n",
      "\t\tCho Spectral Classifcation Report \n",
      "              precision    recall  f1-score   support\n",
      "\n",
      "         0.0       0.00      0.00      0.00         0\n",
      "         1.0       0.29      0.39      0.33        67\n",
      "         2.0       0.18      0.06      0.09       135\n",
      "         3.0       0.13      0.13      0.13        75\n",
      "         4.0       0.00      0.00      0.00        54\n",
      "         5.0       0.00      0.00      0.00        55\n",
      "\n",
      "    accuracy                           0.11       386\n",
      "   macro avg       0.10      0.10      0.09       386\n",
      "weighted avg       0.14      0.11      0.11       386\n",
      "\n"
     ]
    }
   ],
   "source": [
    "print('\\t'*2 +'Iyer Spectral Classifcation Report \\n'+ f'{classification_report(iyer_no_outliers.ground_truth,spectral_iyer)}')\n",
    "print('\\t'*2 +'Cho Spectral Classifcation Report \\n'+ f'{classification_report(cho.ground_truth,spectral_cho)}')"
   ]
  }
 ],
 "metadata": {
  "interpreter": {
   "hash": "1d050cddb74b2da45a0628d6c08448b1b07527cd23eae961beca7c27a7bd2f06"
  },
  "kernelspec": {
   "display_name": "Python 3.9.10 64-bit (windows store)",
   "language": "python",
   "name": "python3"
  },
  "language_info": {
   "codemirror_mode": {
    "name": "ipython",
    "version": 3
   },
   "file_extension": ".py",
   "mimetype": "text/x-python",
   "name": "python",
   "nbconvert_exporter": "python",
   "pygments_lexer": "ipython3",
   "version": "3.7.6"
  },
  "orig_nbformat": 4
 },
 "nbformat": 4,
 "nbformat_minor": 2
}
