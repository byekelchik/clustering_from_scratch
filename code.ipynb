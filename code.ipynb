{
 "cells": [
  {
   "cell_type": "code",
   "execution_count": 7,
   "metadata": {},
   "outputs": [],
   "source": [
    "import numpy as np\n",
    "import pandas as pd\n",
    "import matplotlib.pyplot as plt\n",
    "k=2"
   ]
  },
  {
   "cell_type": "markdown",
   "metadata": {},
   "source": [
    "### Dataset import"
   ]
  },
  {
   "cell_type": "code",
   "execution_count": 8,
   "metadata": {},
   "outputs": [],
   "source": [
    "cho = pd.read_csv(r\"C:\\Users\\Byeke\\OneDrive\\Documents\\Spring_2022_Lehigh\\data_mining\\project_1\\Datasets\\cho.txt\",delimiter='\\t',header=None)\n",
    "elliptical = pd.read_csv(r\"C:\\Users\\Byeke\\OneDrive\\Documents\\Spring_2022_Lehigh\\data_mining\\project_1\\Datasets\\elliptical.txt\",delimiter=' ',names = ['x','y'])\n",
    "iyer = pd.read_csv(r\"C:\\Users\\Byeke\\OneDrive\\Documents\\Spring_2022_Lehigh\\data_mining\\project_1\\Datasets\\iyer.txt\",delimiter='\\t',header=None)\n",
    "square = pd.read_csv(r\"C:\\Users\\Byeke\\OneDrive\\Documents\\Spring_2022_Lehigh\\data_mining\\project_1\\Datasets\\square.txt\",delimiter=' ',names = ['x','y'])"
   ]
  },
  {
   "cell_type": "markdown",
   "metadata": {},
   "source": [
    "#### Rename cho and iyer columns"
   ]
  },
  {
   "cell_type": "code",
   "execution_count": 100,
   "metadata": {},
   "outputs": [],
   "source": [
    "\n",
    "real_set_cols = cho.columns.tolist()\n",
    "real_set_cols[0] = \"gene_id\"\n",
    "real_set_cols[1] = \"ground_truth\"\n",
    "cho.columns = real_set_cols\n",
    "cho.set_index('gene_id',inplace=True)\n",
    "\n",
    "real_set_cols = iyer.columns.tolist()\n",
    "real_set_cols[0] = \"gene_id\"\n",
    "real_set_cols[1] = \"ground_truth\"\n",
    "iyer.columns = real_set_cols\n",
    "iyer.set_index('gene_id',inplace=True)"
   ]
  },
  {
   "cell_type": "markdown",
   "metadata": {},
   "source": [
    "### Simulation Dataset"
   ]
  },
  {
   "cell_type": "code",
   "execution_count": 10,
   "metadata": {},
   "outputs": [
    {
     "data": {
      "text/plain": [
       "<matplotlib.collections.PathCollection at 0x1d11fb88820>"
      ]
     },
     "execution_count": 10,
     "metadata": {},
     "output_type": "execute_result"
    },
    {
     "data": {
      "image/png": "[encoded data removed]",
      "text/plain": [
       "<Figure size 432x288 with 1 Axes>"
      ]
     },
     "metadata": {
      "needs_background": "light"
     },
     "output_type": "display_data"
    }
   ],
   "source": [
    "# plt.scatter(square.loc[:,\"x\"],square.loc[:,\"y\"])\n",
    "plt.scatter(elliptical.loc[:,\"x\"],elliptical.loc[:,\"y\"])"
   ]
  },
  {
   "cell_type": "code",
   "execution_count": 10,
   "metadata": {},
   "outputs": [],
   "source": [
    "tol = .001\n",
    "k=2\n",
    "np_square = np.array(square)\n",
    "np_elliptical = np.array(elliptical)"
   ]
  },
  {
   "cell_type": "markdown",
   "metadata": {},
   "source": [
    "#### Build Kmeans"
   ]
  },
  {
   "cell_type": "code",
   "execution_count": 333,
   "metadata": {},
   "outputs": [],
   "source": [
    "def distance(a,b):\n",
    "    \"\"\"\n",
    "    Return euclidean distance between np.arrays a and b\n",
    "    \"\"\"\n",
    "    return np.sqrt(sum(np.square(a-b)))\n",
    "\n",
    "def initiate_centroids(k,data,init_random):\n",
    "    \"\"\"\n",
    "    Given k clusters and the data set,\n",
    "    Return the initial k centroids\n",
    "    \"\"\"\n",
    "    centroids = []\n",
    "    for i in range(k):\n",
    "        if init_random == True:\n",
    "            centroids.append(data[np.random.randint(0,len(data))]) #Randomly pick centroid index\n",
    "        else:\n",
    "            centroids.append(data[i])\n",
    "    return np.asarray(centroids)\n",
    "\n",
    "def cluster_assignment(data,centroids):\n",
    "    \"\"\"\n",
    "    Assign data to k clusters, given centroids\n",
    "    \"\"\"\n",
    "    cluster = np.zeros(len(data))\n",
    "    for point in range(len(data)):\n",
    "        distances =[distance(data[point],centroid) for centroid in centroids] # computing distance from each point in dataset to each centroid\n",
    "        # print(distances)\n",
    "        index = np.argmin(distances) #assigning each point to closest centroid\n",
    "        cluster[point] = index\n",
    "    return cluster\n",
    "\n",
    "def compute_centroids(k, data, cluster):\n",
    "    \"\"\"\n",
    "    Compute new centroids\n",
    "    \"\"\"\n",
    "    new_centroids = []\n",
    "    for i in range(k):\n",
    "        node = []\n",
    "        for j in range(len(data)):\n",
    "            if cluster[j]==i:\n",
    "                node.append(data[j])\n",
    "        new_centroids.append(np.mean(node, axis=0))\n",
    "    return np.array(new_centroids,dtype=object)\n",
    "\n",
    "def measure_change(centroids_current,new_centroids):\n",
    "    \"\"\"\n",
    "    Calculate the distance between previous centroids and current\n",
    "    \"\"\"\n",
    "    delta = 0\n",
    "    for a,b in zip(centroids_current,new_centroids):\n",
    "        delta+=distance(a,b)\n",
    "    return delta"
   ]
  },
  {
   "cell_type": "code",
   "execution_count": 332,
   "metadata": {},
   "outputs": [],
   "source": [
    "def kmeans_clustering(data,tol,k,init_random):\n",
    "    np.random.seed(100)\n",
    "    \"\"\"\n",
    "    Kmeans clustering algorithm\n",
    "    Input is numpy array, tolerence, max_iterations,and k # of cluster\n",
    "    ---------\n",
    "    Cluster initiation is random\n",
    "    ---------\n",
    "    Returns list of assigned cluster for each element\n",
    "    \"\"\"\n",
    "    centroids_current = initiate_centroids(k,data,init_random)\n",
    "    change = 50\n",
    "    while change > tol: #stopping condition\n",
    "        cluster = cluster_assignment(data,centroids_current) #assign clusters using centroids_current\n",
    "        new_centroids = compute_centroids(k, data, cluster) # calcualte new centroids with the latest assignemnts\n",
    "        change = measure_change(centroids_current,new_centroids) # calculate the distance between previous centroids using eulcidean distance function\n",
    "        centroids_current = new_centroids #assign new centroids as the 'current' ones and check stopping condition at the top\n",
    "    return cluster"
   ]
  },
  {
   "cell_type": "markdown",
   "metadata": {},
   "source": [
    "#### Fit Kmeans to Both Datasets and Graph"
   ]
  },
  {
   "cell_type": "code",
   "execution_count": 400,
   "metadata": {},
   "outputs": [],
   "source": [
    "result_square_kmeans = kmeans_clustering(np_square,tol,k,True)\n",
    "result_elliptical_kmeans = kmeans_clustering(np_elliptical,tol,k,True)\n"
   ]
  },
  {
   "cell_type": "code",
   "execution_count": 401,
   "metadata": {},
   "outputs": [
    {
     "data": {
      "text/plain": [
       "Text(0.5, 1.0, 'Scatter Plot of Square Data w/ \\n Color Coded by Cluster (KMeans)')"
      ]
     },
     "execution_count": 401,
     "metadata": {},
     "output_type": "execute_result"
    },
    {
     "data": {
      "image/png": "[encoded data removed]",
      "text/plain": [
       "<Figure size 864x576 with 1 Axes>"
      ]
     },
     "metadata": {
      "needs_background": "light"
     },
     "output_type": "display_data"
    }
   ],
   "source": [
    "square['kmeans_cluster'] = result_square_kmeans\n",
    "clustered_data = square.groupby(\"kmeans_cluster\")\n",
    "fig, ax = plt.subplots()\n",
    "fig.set_size_inches(12,8)\n",
    "for name, group in clustered_data:\n",
    "    ax.plot(group.x, group.y, marker='o', linestyle='', label=name)\n",
    "ax.legend(numpoints=1, loc='upper left')\n",
    "ax.set_xlabel('X Value')\n",
    "ax.set_ylabel('Y Value')\n",
    "ax.set_title('Scatter Plot of Square Data w/ \\n Color Coded by Cluster (KMeans)')"
   ]
  },
  {
   "cell_type": "code",
   "execution_count": 399,
   "metadata": {},
   "outputs": [
    {
     "data": {
      "text/plain": [
       "Text(0.5, 1.0, 'Scatter Plot of Elliptical Data w/ \\n Color Coded by Cluster (KMeans)')"
      ]
     },
     "execution_count": 399,
     "metadata": {},
     "output_type": "execute_result"
    },
    {
     "data": {
      "image/png": "[encoded data removed]",
      "text/plain": [
       "<Figure size 864x576 with 1 Axes>"
      ]
     },
     "metadata": {
      "needs_background": "light"
     },
     "output_type": "display_data"
    }
   ],
   "source": [
    "elliptical['kmeans_cluster'] = result_elliptical_kmeans\n",
    "clustered_data = elliptical.groupby(\"kmeans_cluster\")\n",
    "fig, ax = plt.subplots()\n",
    "fig.set_size_inches(12,8)\n",
    "for name, group in clustered_data:\n",
    "    ax.plot(group.x, group.y, marker='o', linestyle='', label=name)\n",
    "ax.legend(numpoints=1, loc='upper left')\n",
    "ax.set_xlabel('X Value')\n",
    "ax.set_ylabel('Y Value')\n",
    "ax.set_title('Scatter Plot of Elliptical Data w/ \\n Color Coded by Cluster (KMeans)')"
   ]
  },
  {
   "cell_type": "markdown",
   "metadata": {},
   "source": [
    "#### Build Spectral Clustering\n",
    "\n",
    "Give dataset, let the similarity matrix $S_{ij}$ be the similarity between data point $i,j$. Let the Diagonal matrix $D= \\sum_j S_{ij}$.\n",
    "\n",
    "We define the **unnormalized** Laplacian matrix $L= S-D$\n",
    "\n",
    "We define the **normalized** Laplacian matrix $L = D^{-\\frac{1}{2}}LD^{-\\frac{1}{2}}$\n",
    "\n",
    "Then calculate eigenvalues and vectors of $L$, then use kmeans to cluster that result"
   ]
  },
  {
   "cell_type": "code",
   "execution_count": null,
   "metadata": {},
   "outputs": [],
   "source": [
    "\"\"\"\n",
    "You can use np.linalg.eig, library to generate degree matrix\n",
    "\"\"\""
   ]
  },
  {
   "cell_type": "code",
   "execution_count": 19,
   "metadata": {},
   "outputs": [],
   "source": [
    "sim_matrix = np.zeros((len(np_square),len(np_square)))"
   ]
  },
  {
   "cell_type": "code",
   "execution_count": 46,
   "metadata": {},
   "outputs": [],
   "source": [
    "def similarity_calc(data,type):\n",
    "    type = type.lower()\n",
    "    \"\"\"\n",
    "    Given two np array and the type of similarity calculation\n",
    "    ---------\n",
    "    Return the appropriate Similarity Matrix\n",
    "    \"\"\"\n",
    "    sim_matrix = np.zeros((len(data),len(data)))\n",
    "    if type == 'cosine':\n",
    "        for i in range(len(data)):\n",
    "            for j in range(len(data)):\n",
    "                sim_matrix[i,j] = np.dot(data[i],data[j])/(np.linalg.norm(data[i])*(np.linalg.norm(data[j])))\n",
    "    elif type == 'gaussian':\n",
    "        sigma = 1\n",
    "        for i in range(len(data)):\n",
    "            for j in range(len(data)):\n",
    "                sim_matrix[i,j] = np.exp(-distance(data[i],data[j])/(2*sigma**2))\n",
    "    else:\n",
    "        print(\"please choose 'gaussian' or 'cosine'\")\n",
    "    return sim_matrix\n",
    "\n",
    "def degree_matrix(sim_matrix):\n",
    "    \"\"\"\"\n",
    "    Given a similarity matrix\n",
    "    --------\n",
    "    Returns the degree matrix\n",
    "    \"\"\"\n",
    "    d_matrix = np.zeros((len(sim_matrix),len(sim_matrix)))\n",
    "    for i in range(len(sim_matrix)):\n",
    "        d_matrix[i,i] = sum(sim_matrix[i])    \n",
    "    return d_matrix"
   ]
  },
  {
   "cell_type": "code",
   "execution_count": null,
   "metadata": {},
   "outputs": [],
   "source": [
    "sim_matirx = similarity_calc(np_square,'cosine')\n",
    "from sklearn.neighbors import KernelDensity\n",
    "kde = KernelDensity(kernel='cosine',bandwidth=.5).fit(np_square)\n",
    "result = kde.score_samples(np_square)\n",
    "result = result.reshape((result.shape[0],1))\n",
    "kde_d_matrix = degree_matrix(result)\n",
    "l_kde= result -kde_d_matrix\n",
    "eig_val_kde,eig_vec_kde = np.linalg.eig(l_kde)\n",
    "eig_val = np.sort(eig_val_kde)\n",
    "eig_val_kde[:k]"
   ]
  },
  {
   "cell_type": "code",
   "execution_count": 52,
   "metadata": {},
   "outputs": [],
   "source": [
    "sim_matrix = similarity_calc(np_square,'cosine')\n",
    "d_matrix = degree_matrix(sim_matrix)"
   ]
  },
  {
   "cell_type": "code",
   "execution_count": 68,
   "metadata": {},
   "outputs": [
    {
     "data": {
      "text/plain": [
       "array([-3.35621907, -3.28197937])"
      ]
     },
     "execution_count": 68,
     "metadata": {},
     "output_type": "execute_result"
    }
   ],
   "source": [
    "l=sim_matirx - d_matrix\n",
    "eig_val,eig_vec = np.linalg.eig(l)\n",
    "eig_val = np.sort(eig_val)\n",
    "eig_val[:k]"
   ]
  },
  {
   "cell_type": "code",
   "execution_count": 184,
   "metadata": {},
   "outputs": [],
   "source": [
    "def spectral_clustering(data,k,tol,normalization,similarity,init_random):\n",
    "    \"\"\"\n",
    "    Spectral clustering algorithm\n",
    "    Input is numpy array, tolerence,type of normalization and similarity, and k # of cluster\n",
    "    ---------\n",
    "    Cluster initiation is random\n",
    "    ---------\n",
    "    Returns list of assigned cluster for each element\n",
    "    \"\"\"\n",
    "    s_matrix = similarity_calc(data,similarity)\n",
    "    d_matrix = degree_matrix(s_matrix)\n",
    "    l = s_matrix - d_matrix\n",
    "    if normalization == False:\n",
    "        l = (d_matrix**-.5) * l * (d_matrix**-.5) #fix code to calc non-normalized\n",
    "    else: \n",
    "        pass\n",
    "    eig_val,eig_vec = np.linalg.eig(l)\n",
    "    k_small_eigval = np.sort(eig_val)[:k] #sort the list and get the first k elements\n",
    "    # data = \n",
    "    cluster = kmeans_clustering(data,tol,k,init_random)\n",
    "    return cluster"
   ]
  },
  {
   "cell_type": "markdown",
   "metadata": {},
   "source": [
    "#### Fit Spectral to Both Datasets and Graph"
   ]
  },
  {
   "cell_type": "code",
   "execution_count": null,
   "metadata": {},
   "outputs": [],
   "source": [
    "result_square_spectral = spectral_clustering(np_square,tol,k,normalization = True,similarity= 'cosine',init_random = True)\n",
    "result_elliptical_spectral = spectral_clustering(np_elliptical,tol,k,normalization = True,similarity= 'cosine',init_random = True)"
   ]
  },
  {
   "cell_type": "code",
   "execution_count": 402,
   "metadata": {},
   "outputs": [
    {
     "ename": "NameError",
     "evalue": "name 'result_square_spectral' is not defined",
     "output_type": "error",
     "traceback": [
      "\u001b[1;31m---------------------------------------------------------------------------\u001b[0m",
      "\u001b[1;31mNameError\u001b[0m                                 Traceback (most recent call last)",
      "\u001b[1;32m<ipython-input-402-d23860fe2b0b>\u001b[0m in \u001b[0;36m<module>\u001b[1;34m\u001b[0m\n\u001b[1;32m----> 1\u001b[1;33m \u001b[0msquare\u001b[0m\u001b[1;33m[\u001b[0m\u001b[1;34m'spectral_cluster'\u001b[0m\u001b[1;33m]\u001b[0m \u001b[1;33m=\u001b[0m \u001b[0mresult_square_spectral\u001b[0m\u001b[1;33m\u001b[0m\u001b[1;33m\u001b[0m\u001b[0m\n\u001b[0m\u001b[0;32m      2\u001b[0m \u001b[0mclustered_data\u001b[0m \u001b[1;33m=\u001b[0m \u001b[0msquare\u001b[0m\u001b[1;33m.\u001b[0m\u001b[0mgroupby\u001b[0m\u001b[1;33m(\u001b[0m\u001b[1;34m\"spectral_cluster\"\u001b[0m\u001b[1;33m)\u001b[0m\u001b[1;33m\u001b[0m\u001b[1;33m\u001b[0m\u001b[0m\n\u001b[0;32m      3\u001b[0m \u001b[0mfig\u001b[0m\u001b[1;33m,\u001b[0m \u001b[0max\u001b[0m \u001b[1;33m=\u001b[0m \u001b[0mplt\u001b[0m\u001b[1;33m.\u001b[0m\u001b[0msubplots\u001b[0m\u001b[1;33m(\u001b[0m\u001b[1;33m)\u001b[0m\u001b[1;33m\u001b[0m\u001b[1;33m\u001b[0m\u001b[0m\n\u001b[0;32m      4\u001b[0m \u001b[0mfig\u001b[0m\u001b[1;33m.\u001b[0m\u001b[0mset_size_inches\u001b[0m\u001b[1;33m(\u001b[0m\u001b[1;36m12\u001b[0m\u001b[1;33m,\u001b[0m\u001b[1;36m8\u001b[0m\u001b[1;33m)\u001b[0m\u001b[1;33m\u001b[0m\u001b[1;33m\u001b[0m\u001b[0m\n\u001b[0;32m      5\u001b[0m \u001b[1;32mfor\u001b[0m \u001b[0mname\u001b[0m\u001b[1;33m,\u001b[0m \u001b[0mgroup\u001b[0m \u001b[1;32min\u001b[0m \u001b[0mclustered_data\u001b[0m\u001b[1;33m:\u001b[0m\u001b[1;33m\u001b[0m\u001b[1;33m\u001b[0m\u001b[0m\n",
      "\u001b[1;31mNameError\u001b[0m: name 'result_square_spectral' is not defined"
     ]
    }
   ],
   "source": [
    "square['spectral_cluster'] = result_square_spectral\n",
    "clustered_data = square.groupby(\"spectral_cluster\")\n",
    "fig, ax = plt.subplots()\n",
    "fig.set_size_inches(12,8)\n",
    "for name, group in clustered_data:\n",
    "    ax.plot(group.x, group.y, marker='o', linestyle='', label=name)\n",
    "ax.legend(numpoints=1, loc='upper left')\n",
    "ax.set_xlabel('X Value')\n",
    "ax.set_ylabel('Y Value')\n",
    "ax.set_title('Scatter Plot of Square Data w/ \\n Color Coded by Cluster (Spectral)')"
   ]
  },
  {
   "cell_type": "code",
   "execution_count": 403,
   "metadata": {},
   "outputs": [
    {
     "ename": "NameError",
     "evalue": "name 'result_elliptical_spectral' is not defined",
     "output_type": "error",
     "traceback": [
      "\u001b[1;31m---------------------------------------------------------------------------\u001b[0m",
      "\u001b[1;31mNameError\u001b[0m                                 Traceback (most recent call last)",
      "\u001b[1;32m<ipython-input-403-afa126dffdc2>\u001b[0m in \u001b[0;36m<module>\u001b[1;34m\u001b[0m\n\u001b[1;32m----> 1\u001b[1;33m \u001b[0melliptical\u001b[0m\u001b[1;33m[\u001b[0m\u001b[1;34m'spectral_cluster'\u001b[0m\u001b[1;33m]\u001b[0m \u001b[1;33m=\u001b[0m \u001b[0mresult_elliptical_spectral\u001b[0m\u001b[1;33m\u001b[0m\u001b[1;33m\u001b[0m\u001b[0m\n\u001b[0m\u001b[0;32m      2\u001b[0m \u001b[0mclustered_data\u001b[0m \u001b[1;33m=\u001b[0m \u001b[0melliptical\u001b[0m\u001b[1;33m.\u001b[0m\u001b[0mgroupby\u001b[0m\u001b[1;33m(\u001b[0m\u001b[1;34m\"spectral_cluster\"\u001b[0m\u001b[1;33m)\u001b[0m\u001b[1;33m\u001b[0m\u001b[1;33m\u001b[0m\u001b[0m\n\u001b[0;32m      3\u001b[0m \u001b[0mfig\u001b[0m\u001b[1;33m,\u001b[0m \u001b[0max\u001b[0m \u001b[1;33m=\u001b[0m \u001b[0mplt\u001b[0m\u001b[1;33m.\u001b[0m\u001b[0msubplots\u001b[0m\u001b[1;33m(\u001b[0m\u001b[1;33m)\u001b[0m\u001b[1;33m\u001b[0m\u001b[1;33m\u001b[0m\u001b[0m\n\u001b[0;32m      4\u001b[0m \u001b[0mfig\u001b[0m\u001b[1;33m.\u001b[0m\u001b[0mset_size_inches\u001b[0m\u001b[1;33m(\u001b[0m\u001b[1;36m12\u001b[0m\u001b[1;33m,\u001b[0m\u001b[1;36m8\u001b[0m\u001b[1;33m)\u001b[0m\u001b[1;33m\u001b[0m\u001b[1;33m\u001b[0m\u001b[0m\n\u001b[0;32m      5\u001b[0m \u001b[1;32mfor\u001b[0m \u001b[0mname\u001b[0m\u001b[1;33m,\u001b[0m \u001b[0mgroup\u001b[0m \u001b[1;32min\u001b[0m \u001b[0mclustered_data\u001b[0m\u001b[1;33m:\u001b[0m\u001b[1;33m\u001b[0m\u001b[1;33m\u001b[0m\u001b[0m\n",
      "\u001b[1;31mNameError\u001b[0m: name 'result_elliptical_spectral' is not defined"
     ]
    }
   ],
   "source": [
    "elliptical['spectral_cluster'] = result_elliptical_spectral\n",
    "clustered_data = elliptical.groupby(\"spectral_cluster\")\n",
    "fig, ax = plt.subplots()\n",
    "fig.set_size_inches(12,8)\n",
    "for name, group in clustered_data:\n",
    "    ax.plot(group.x, group.y, marker='o', linestyle='', label=name)\n",
    "ax.legend(numpoints=1, loc='upper left')\n",
    "ax.set_xlabel('X Value')\n",
    "ax.set_ylabel('Y Value')\n",
    "ax.set_title('Scatter Plot of Elliptical Data w/ \\n Color Coded by Cluster (Spectral)')"
   ]
  },
  {
   "cell_type": "markdown",
   "metadata": {},
   "source": [
    "### Real-World Dataset"
   ]
  },
  {
   "cell_type": "code",
   "execution_count": 156,
   "metadata": {},
   "outputs": [],
   "source": [
    "from sklearn.metrics import classification_report\n",
    "from sklearn.preprocessing import MinMaxScaler,StandardScaler"
   ]
  },
  {
   "cell_type": "code",
   "execution_count": 241,
   "metadata": {},
   "outputs": [
    {
     "name": "stdout",
     "output_type": "stream",
     "text": [
      "# Clusters Cho: 5 \n",
      "# Clusters iyer: 11\n"
     ]
    }
   ],
   "source": [
    "\"\"\"Number of true clusters for each dataset\"\"\"\n",
    "actual_k_cho = cho.ground_truth.unique().shape[0]\n",
    "actual_k_iyer = iyer.ground_truth.unique().shape[0]\n",
    "print(f'# Clusters Cho: {actual_k_cho} \\n# Clusters iyer: {actual_k_iyer}')"
   ]
  },
  {
   "cell_type": "markdown",
   "metadata": {},
   "source": [
    "#### Fit KMeans to Cho and Iyer"
   ]
  },
  {
   "cell_type": "markdown",
   "metadata": {},
   "source": [
    "##### Preprocessing"
   ]
  },
  {
   "cell_type": "code",
   "execution_count": 356,
   "metadata": {},
   "outputs": [],
   "source": [
    "iyer.ground_truth.unique()\n",
    "iyer_no_outliers = iyer[iyer['ground_truth']!=-1]\n",
    "\"\"\"Scaling\"\"\"\n",
    "sc = StandardScaler()\n",
    "cho_sc_values = sc.fit_transform(cho.iloc[:,1:])\n",
    "iyer_sc_values = sc.fit_transform(iyer.iloc[:,1:])"
   ]
  },
  {
   "cell_type": "code",
   "execution_count": 357,
   "metadata": {},
   "outputs": [
    {
     "data": {
      "text/html": [
       "<div>\n",
       "<style scoped>\n",
       "    .dataframe tbody tr th:only-of-type {\n",
       "        vertical-align: middle;\n",
       "    }\n",
       "\n",
       "    .dataframe tbody tr th {\n",
       "        vertical-align: top;\n",
       "    }\n",
       "\n",
       "    .dataframe thead th {\n",
       "        text-align: right;\n",
       "    }\n",
       "</style>\n",
       "<table border=\"1\" class=\"dataframe\">\n",
       "  <thead>\n",
       "    <tr style=\"text-align: right;\">\n",
       "      <th></th>\n",
       "      <th>ground_truth</th>\n",
       "      <th>2</th>\n",
       "      <th>3</th>\n",
       "      <th>4</th>\n",
       "      <th>5</th>\n",
       "      <th>6</th>\n",
       "      <th>7</th>\n",
       "      <th>8</th>\n",
       "      <th>9</th>\n",
       "      <th>10</th>\n",
       "      <th>11</th>\n",
       "      <th>12</th>\n",
       "      <th>13</th>\n",
       "      <th>14</th>\n",
       "      <th>15</th>\n",
       "      <th>16</th>\n",
       "      <th>17</th>\n",
       "    </tr>\n",
       "  </thead>\n",
       "  <tbody>\n",
       "    <tr>\n",
       "      <th>count</th>\n",
       "      <td>386.000000</td>\n",
       "      <td>386.000000</td>\n",
       "      <td>386.000000</td>\n",
       "      <td>386.000000</td>\n",
       "      <td>386.000000</td>\n",
       "      <td>386.000000</td>\n",
       "      <td>386.000000</td>\n",
       "      <td>386.000000</td>\n",
       "      <td>386.000000</td>\n",
       "      <td>386.000000</td>\n",
       "      <td>386.000000</td>\n",
       "      <td>386.000000</td>\n",
       "      <td>386.000000</td>\n",
       "      <td>386.000000</td>\n",
       "      <td>386.000000</td>\n",
       "      <td>386.000000</td>\n",
       "      <td>386.000000</td>\n",
       "    </tr>\n",
       "    <tr>\n",
       "      <th>mean</th>\n",
       "      <td>2.727979</td>\n",
       "      <td>-0.376075</td>\n",
       "      <td>-0.243391</td>\n",
       "      <td>0.109725</td>\n",
       "      <td>0.056933</td>\n",
       "      <td>-0.015746</td>\n",
       "      <td>-0.014622</td>\n",
       "      <td>-0.091275</td>\n",
       "      <td>-0.159617</td>\n",
       "      <td>-0.080679</td>\n",
       "      <td>0.309347</td>\n",
       "      <td>0.246399</td>\n",
       "      <td>0.150490</td>\n",
       "      <td>0.045334</td>\n",
       "      <td>-0.031842</td>\n",
       "      <td>-0.073293</td>\n",
       "      <td>-0.026399</td>\n",
       "    </tr>\n",
       "    <tr>\n",
       "      <th>std</th>\n",
       "      <td>1.297788</td>\n",
       "      <td>0.639312</td>\n",
       "      <td>0.633144</td>\n",
       "      <td>0.953058</td>\n",
       "      <td>0.660207</td>\n",
       "      <td>0.571665</td>\n",
       "      <td>0.504311</td>\n",
       "      <td>0.588525</td>\n",
       "      <td>0.719673</td>\n",
       "      <td>0.631758</td>\n",
       "      <td>0.640560</td>\n",
       "      <td>0.518144</td>\n",
       "      <td>0.374606</td>\n",
       "      <td>0.341869</td>\n",
       "      <td>0.380650</td>\n",
       "      <td>0.542478</td>\n",
       "      <td>0.528765</td>\n",
       "    </tr>\n",
       "    <tr>\n",
       "      <th>min</th>\n",
       "      <td>1.000000</td>\n",
       "      <td>-3.120000</td>\n",
       "      <td>-4.120000</td>\n",
       "      <td>-3.540000</td>\n",
       "      <td>-1.880000</td>\n",
       "      <td>-1.890000</td>\n",
       "      <td>-2.560000</td>\n",
       "      <td>-1.820000</td>\n",
       "      <td>-1.860000</td>\n",
       "      <td>-1.810000</td>\n",
       "      <td>-2.190000</td>\n",
       "      <td>-2.110000</td>\n",
       "      <td>-1.290000</td>\n",
       "      <td>-1.500000</td>\n",
       "      <td>-1.630000</td>\n",
       "      <td>-1.680000</td>\n",
       "      <td>-1.520000</td>\n",
       "    </tr>\n",
       "    <tr>\n",
       "      <th>25%</th>\n",
       "      <td>2.000000</td>\n",
       "      <td>-0.790000</td>\n",
       "      <td>-0.657500</td>\n",
       "      <td>-0.595000</td>\n",
       "      <td>-0.447500</td>\n",
       "      <td>-0.370000</td>\n",
       "      <td>-0.340000</td>\n",
       "      <td>-0.510000</td>\n",
       "      <td>-0.650000</td>\n",
       "      <td>-0.500000</td>\n",
       "      <td>-0.137750</td>\n",
       "      <td>-0.130000</td>\n",
       "      <td>-0.060000</td>\n",
       "      <td>-0.102750</td>\n",
       "      <td>-0.294500</td>\n",
       "      <td>-0.470000</td>\n",
       "      <td>-0.380000</td>\n",
       "    </tr>\n",
       "    <tr>\n",
       "      <th>50%</th>\n",
       "      <td>2.000000</td>\n",
       "      <td>-0.390000</td>\n",
       "      <td>-0.205000</td>\n",
       "      <td>0.060000</td>\n",
       "      <td>0.180000</td>\n",
       "      <td>-0.030000</td>\n",
       "      <td>-0.075000</td>\n",
       "      <td>-0.140000</td>\n",
       "      <td>-0.200000</td>\n",
       "      <td>-0.141000</td>\n",
       "      <td>0.310000</td>\n",
       "      <td>0.270000</td>\n",
       "      <td>0.170000</td>\n",
       "      <td>0.065500</td>\n",
       "      <td>-0.049000</td>\n",
       "      <td>-0.035500</td>\n",
       "      <td>0.000000</td>\n",
       "    </tr>\n",
       "    <tr>\n",
       "      <th>75%</th>\n",
       "      <td>4.000000</td>\n",
       "      <td>-0.022500</td>\n",
       "      <td>0.180000</td>\n",
       "      <td>0.870000</td>\n",
       "      <td>0.557500</td>\n",
       "      <td>0.370000</td>\n",
       "      <td>0.340000</td>\n",
       "      <td>0.307500</td>\n",
       "      <td>0.290000</td>\n",
       "      <td>0.317500</td>\n",
       "      <td>0.750000</td>\n",
       "      <td>0.590000</td>\n",
       "      <td>0.372250</td>\n",
       "      <td>0.230000</td>\n",
       "      <td>0.230000</td>\n",
       "      <td>0.250000</td>\n",
       "      <td>0.307500</td>\n",
       "    </tr>\n",
       "    <tr>\n",
       "      <th>max</th>\n",
       "      <td>5.000000</td>\n",
       "      <td>1.950000</td>\n",
       "      <td>1.430000</td>\n",
       "      <td>2.040000</td>\n",
       "      <td>1.610000</td>\n",
       "      <td>1.580000</td>\n",
       "      <td>1.480000</td>\n",
       "      <td>2.450000</td>\n",
       "      <td>2.770000</td>\n",
       "      <td>1.810000</td>\n",
       "      <td>2.160000</td>\n",
       "      <td>1.750000</td>\n",
       "      <td>1.340000</td>\n",
       "      <td>1.140000</td>\n",
       "      <td>1.480000</td>\n",
       "      <td>2.060000</td>\n",
       "      <td>2.360000</td>\n",
       "    </tr>\n",
       "  </tbody>\n",
       "</table>\n",
       "</div>"
      ],
      "text/plain": [
       "       ground_truth           2           3           4           5  \\\n",
       "count    386.000000  386.000000  386.000000  386.000000  386.000000   \n",
       "mean       2.727979   -0.376075   -0.243391    0.109725    0.056933   \n",
       "std        1.297788    0.639312    0.633144    0.953058    0.660207   \n",
       "min        1.000000   -3.120000   -4.120000   -3.540000   -1.880000   \n",
       "25%        2.000000   -0.790000   -0.657500   -0.595000   -0.447500   \n",
       "50%        2.000000   -0.390000   -0.205000    0.060000    0.180000   \n",
       "75%        4.000000   -0.022500    0.180000    0.870000    0.557500   \n",
       "max        5.000000    1.950000    1.430000    2.040000    1.610000   \n",
       "\n",
       "                6           7           8           9          10          11  \\\n",
       "count  386.000000  386.000000  386.000000  386.000000  386.000000  386.000000   \n",
       "mean    -0.015746   -0.014622   -0.091275   -0.159617   -0.080679    0.309347   \n",
       "std      0.571665    0.504311    0.588525    0.719673    0.631758    0.640560   \n",
       "min     -1.890000   -2.560000   -1.820000   -1.860000   -1.810000   -2.190000   \n",
       "25%     -0.370000   -0.340000   -0.510000   -0.650000   -0.500000   -0.137750   \n",
       "50%     -0.030000   -0.075000   -0.140000   -0.200000   -0.141000    0.310000   \n",
       "75%      0.370000    0.340000    0.307500    0.290000    0.317500    0.750000   \n",
       "max      1.580000    1.480000    2.450000    2.770000    1.810000    2.160000   \n",
       "\n",
       "               12          13          14          15          16          17  \n",
       "count  386.000000  386.000000  386.000000  386.000000  386.000000  386.000000  \n",
       "mean     0.246399    0.150490    0.045334   -0.031842   -0.073293   -0.026399  \n",
       "std      0.518144    0.374606    0.341869    0.380650    0.542478    0.528765  \n",
       "min     -2.110000   -1.290000   -1.500000   -1.630000   -1.680000   -1.520000  \n",
       "25%     -0.130000   -0.060000   -0.102750   -0.294500   -0.470000   -0.380000  \n",
       "50%      0.270000    0.170000    0.065500   -0.049000   -0.035500    0.000000  \n",
       "75%      0.590000    0.372250    0.230000    0.230000    0.250000    0.307500  \n",
       "max      1.750000    1.340000    1.140000    1.480000    2.060000    2.360000  "
      ]
     },
     "execution_count": 357,
     "metadata": {},
     "output_type": "execute_result"
    }
   ],
   "source": [
    "cho.describe()"
   ]
  },
  {
   "cell_type": "code",
   "execution_count": 388,
   "metadata": {},
   "outputs": [],
   "source": [
    "kmeans_iyer = kmeans_clustering(iyer_sc_values,.001,actual_k_iyer,init_random = True)\n",
    "kmeans_cho = kmeans_clustering(cho_sc_values,.001,actual_k_cho,init_random= True)"
   ]
  },
  {
   "cell_type": "code",
   "execution_count": 366,
   "metadata": {},
   "outputs": [
    {
     "data": {
      "text/plain": [
       "{-1.0, 0.0, 1.0, 2.0, 3.0, 4.0, 5.0, 6.0, 7.0, 8.0, 9.0}"
      ]
     },
     "execution_count": 366,
     "metadata": {},
     "output_type": "execute_result"
    }
   ],
   "source": [
    "set(kmeans_iyer-1)"
   ]
  },
  {
   "cell_type": "markdown",
   "metadata": {},
   "source": [
    "#### Fit Spectral to Cho and Iyer"
   ]
  },
  {
   "cell_type": "markdown",
   "metadata": {},
   "source": [
    "##### Preprocessing"
   ]
  },
  {
   "cell_type": "code",
   "execution_count": null,
   "metadata": {},
   "outputs": [],
   "source": []
  },
  {
   "cell_type": "code",
   "execution_count": 211,
   "metadata": {},
   "outputs": [
    {
     "ename": "TypeError",
     "evalue": "spectral_clustering() missing 2 required positional arguments: 'normalization' and 'similarity'",
     "output_type": "error",
     "traceback": [
      "\u001b[1;31m---------------------------------------------------------------------------\u001b[0m",
      "\u001b[1;31mTypeError\u001b[0m                                 Traceback (most recent call last)",
      "\u001b[1;32m<ipython-input-211-56878001ab6d>\u001b[0m in \u001b[0;36m<module>\u001b[1;34m\u001b[0m\n\u001b[1;32m----> 1\u001b[1;33m \u001b[0mkmeans_iyer\u001b[0m \u001b[1;33m=\u001b[0m \u001b[0mspectral_clustering\u001b[0m\u001b[1;33m(\u001b[0m\u001b[0miyer\u001b[0m\u001b[1;33m.\u001b[0m\u001b[0miloc\u001b[0m\u001b[1;33m[\u001b[0m\u001b[1;33m:\u001b[0m\u001b[1;33m,\u001b[0m\u001b[1;36m1\u001b[0m\u001b[1;33m:\u001b[0m\u001b[1;33m]\u001b[0m\u001b[1;33m.\u001b[0m\u001b[0mvalues\u001b[0m\u001b[1;33m,\u001b[0m\u001b[1;36m.001\u001b[0m\u001b[1;33m,\u001b[0m\u001b[0mactual_k_iyer\u001b[0m\u001b[1;33m)\u001b[0m\u001b[1;33m\u001b[0m\u001b[1;33m\u001b[0m\u001b[0m\n\u001b[0m\u001b[0;32m      2\u001b[0m \u001b[0mkmeans_cho\u001b[0m \u001b[1;33m=\u001b[0m \u001b[0mspectral_clustering\u001b[0m\u001b[1;33m(\u001b[0m\u001b[0mcho_sc_values\u001b[0m\u001b[1;33m,\u001b[0m\u001b[1;36m.001\u001b[0m\u001b[1;33m,\u001b[0m\u001b[0mactual_k_cho\u001b[0m\u001b[1;33m)\u001b[0m\u001b[1;33m\u001b[0m\u001b[1;33m\u001b[0m\u001b[0m\n",
      "\u001b[1;31mTypeError\u001b[0m: spectral_clustering() missing 2 required positional arguments: 'normalization' and 'similarity'"
     ]
    }
   ],
   "source": [
    "kmeans_iyer = spectral_clustering(iyer.iloc[:,1:].values,.001,actual_k_iyer)\n",
    "kmeans_cho = spectral_clustering(cho_sc_values,.001,actual_k_cho)"
   ]
  },
  {
   "cell_type": "markdown",
   "metadata": {},
   "source": [
    "#### Classification Report: KMeans"
   ]
  },
  {
   "cell_type": "code",
   "execution_count": 389,
   "metadata": {},
   "outputs": [
    {
     "name": "stdout",
     "output_type": "stream",
     "text": [
      "\t\tIyer KMeans Classifcation Report \n",
      "              precision    recall  f1-score   support\n",
      "\n",
      "        -1.0       1.00      0.00      0.00        33\n",
      "         0.0       0.00      1.00      0.00         0\n",
      "         1.0       0.00      0.00      0.00       100\n",
      "         2.0       0.53      0.61      0.56       145\n",
      "         3.0       0.02      0.03      0.02        34\n",
      "         4.0       0.81      0.30      0.44        43\n",
      "         5.0       0.00      0.00      0.00         7\n",
      "         6.0       0.50      0.03      0.06        34\n",
      "         7.0       0.00      0.00      0.00        14\n",
      "         8.0       0.00      0.00      0.00        63\n",
      "         9.0       0.00      0.00      0.00        19\n",
      "        10.0       0.00      0.00      0.00        25\n",
      "\n",
      "    accuracy                           0.20       517\n",
      "   macro avg       0.24      0.16      0.09       517\n",
      "weighted avg       0.31      0.20      0.20       517\n",
      "\n"
     ]
    }
   ],
   "source": [
    "print('\\t'*2 +'Iyer KMeans Classifcation Report \\n'+ f'{classification_report(iyer.ground_truth,(kmeans_iyer),zero_division=1)}')\n",
    "# print('\\t'*2 +'Cho KMeans Classifcation Report \\n'+ f'{classification_report(cho.ground_truth,kmeans_cho,zero_division=1)}')"
   ]
  },
  {
   "cell_type": "markdown",
   "metadata": {},
   "source": [
    "#### Classification Report: Spectral"
   ]
  },
  {
   "cell_type": "code",
   "execution_count": 244,
   "metadata": {},
   "outputs": [
    {
     "ename": "NameError",
     "evalue": "name 'spectral_iyer' is not defined",
     "output_type": "error",
     "traceback": [
      "\u001b[1;31m---------------------------------------------------------------------------\u001b[0m",
      "\u001b[1;31mNameError\u001b[0m                                 Traceback (most recent call last)",
      "\u001b[1;32m<ipython-input-244-4c075ad94ab1>\u001b[0m in \u001b[0;36m<module>\u001b[1;34m\u001b[0m\n\u001b[1;32m----> 1\u001b[1;33m \u001b[0mprint\u001b[0m\u001b[1;33m(\u001b[0m\u001b[1;34m'\\t'\u001b[0m\u001b[1;33m*\u001b[0m\u001b[1;36m2\u001b[0m \u001b[1;33m+\u001b[0m\u001b[1;34m'Iyer Spectral Classifcation Report \\n'\u001b[0m\u001b[1;33m+\u001b[0m \u001b[1;34mf'{classification_report(iyer.ground_truth,spectral_iyer,zero_division=1)}'\u001b[0m\u001b[1;33m)\u001b[0m\u001b[1;33m\u001b[0m\u001b[1;33m\u001b[0m\u001b[0m\n\u001b[0m\u001b[0;32m      2\u001b[0m \u001b[0mprint\u001b[0m\u001b[1;33m(\u001b[0m\u001b[1;34m'\\t'\u001b[0m\u001b[1;33m*\u001b[0m\u001b[1;36m2\u001b[0m \u001b[1;33m+\u001b[0m\u001b[1;34m'Cho Spectral Classifcation Report \\n'\u001b[0m\u001b[1;33m+\u001b[0m \u001b[1;34mf'{classification_report(cho.ground_truth,spectral_cho,zero_division=1)}'\u001b[0m\u001b[1;33m)\u001b[0m\u001b[1;33m\u001b[0m\u001b[1;33m\u001b[0m\u001b[0m\n",
      "\u001b[1;31mNameError\u001b[0m: name 'spectral_iyer' is not defined"
     ]
    }
   ],
   "source": [
    "print('\\t'*2 +'Iyer Spectral Classifcation Report \\n'+ f'{classification_report(iyer.ground_truth,spectral_iyer,zero_division=1)}')\n",
    "print('\\t'*2 +'Cho Spectral Classifcation Report \\n'+ f'{classification_report(cho.ground_truth,spectral_cho,zero_division=1)}')"
   ]
  }
 ],
 "metadata": {
  "interpreter": {
   "hash": "1d050cddb74b2da45a0628d6c08448b1b07527cd23eae961beca7c27a7bd2f06"
  },
  "kernelspec": {
   "display_name": "Python 3.9.10 64-bit (windows store)",
   "language": "python",
   "name": "python3"
  },
  "language_info": {
   "codemirror_mode": {
    "name": "ipython",
    "version": 3
   },
   "file_extension": ".py",
   "mimetype": "text/x-python",
   "name": "python",
   "nbconvert_exporter": "python",
   "pygments_lexer": "ipython3",
   "version": "3.9.10"
  },
  "orig_nbformat": 4
 },
 "nbformat": 4,
 "nbformat_minor": 2
}
